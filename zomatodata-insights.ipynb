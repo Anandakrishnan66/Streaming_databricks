{
 "cells": [
  {
   "cell_type": "code",
   "execution_count": 0,
   "metadata": {
    "application/vnd.databricks.v1+cell": {
     "cellMetadata": {
      "byteLimit": 2048000,
      "rowLimit": 10000
     },
     "inputWidgets": {},
     "nuid": "9ee7fd7e-ebc8-4e37-8260-2f21cf2f8e8d",
     "showTitle": false,
     "title": ""
    }
   },
   "outputs": [
    {
     "output_type": "execute_result",
     "data": {
      "text/html": [
       "\n",
       "        <div>\n",
       "            <p><b>SparkContext</b></p>\n",
       "\n",
       "            <p><a href=\"/?o=4094169015410041#setting/sparkui/0724-044838-k72nocr/driver-2471481811075474855\">Spark UI</a></p>\n",
       "\n",
       "            <dl>\n",
       "              <dt>Version</dt>\n",
       "                <dd><code>v3.5.0</code></dd>\n",
       "              <dt>Master</dt>\n",
       "                <dd><code>spark://10.139.64.4:7077</code></dd>\n",
       "              <dt>AppName</dt>\n",
       "                <dd><code>Databricks Shell</code></dd>\n",
       "            </dl>\n",
       "        </div>\n",
       "        "
      ],
      "text/plain": [
       "<SparkContext master=spark://10.139.64.4:7077 appName=Databricks Shell>"
      ]
     },
     "execution_count": 1,
     "metadata": {},
     "output_type": "execute_result"
    }
   ],
   "source": [
    "sc"
   ]
  },
  {
   "cell_type": "code",
   "execution_count": 0,
   "metadata": {
    "application/vnd.databricks.v1+cell": {
     "cellMetadata": {
      "byteLimit": 2048000,
      "rowLimit": 10000
     },
     "inputWidgets": {},
     "nuid": "0a8c97b7-5c91-452c-afad-e1bdafa79c08",
     "showTitle": false,
     "title": ""
    }
   },
   "outputs": [
    {
     "output_type": "execute_result",
     "data": {
      "text/html": [
       "\n",
       "            <div>\n",
       "                <p><b>SparkSession - hive</b></p>\n",
       "                \n",
       "        <div>\n",
       "            <p><b>SparkContext</b></p>\n",
       "\n",
       "            <p><a href=\"/?o=4094169015410041#setting/sparkui/0724-044838-k72nocr/driver-2471481811075474855\">Spark UI</a></p>\n",
       "\n",
       "            <dl>\n",
       "              <dt>Version</dt>\n",
       "                <dd><code>v3.5.0</code></dd>\n",
       "              <dt>Master</dt>\n",
       "                <dd><code>spark://10.139.64.4:7077</code></dd>\n",
       "              <dt>AppName</dt>\n",
       "                <dd><code>Databricks Shell</code></dd>\n",
       "            </dl>\n",
       "        </div>\n",
       "        \n",
       "            </div>\n",
       "        "
      ],
      "text/plain": [
       "<pyspark.sql.session.SparkSession at 0x7f0a1f45b6a0>"
      ]
     },
     "execution_count": 2,
     "metadata": {},
     "output_type": "execute_result"
    }
   ],
   "source": [
    "spark"
   ]
  },
  {
   "cell_type": "code",
   "execution_count": 0,
   "metadata": {
    "application/vnd.databricks.v1+cell": {
     "cellMetadata": {
      "byteLimit": 2048000,
      "rowLimit": 10000
     },
     "inputWidgets": {},
     "nuid": "72d4b422-0121-414f-b38f-71a98f80fd2a",
     "showTitle": false,
     "title": ""
    }
   },
   "outputs": [],
   "source": [
    "df = spark.read.format(\"csv\").option(\"header\",\"true\").option(\"inferSchema\",\"true\").load(\"dbfs:/Volumes/azuredatabricks/default/sales/zomato_orders_large.csv\"\n",
    ")"
   ]
  },
  {
   "cell_type": "code",
   "execution_count": 0,
   "metadata": {
    "application/vnd.databricks.v1+cell": {
     "cellMetadata": {
      "byteLimit": 2048000,
      "rowLimit": 10000
     },
     "inputWidgets": {},
     "nuid": "e4136377-24fd-4599-ac3e-4e15157e9ecf",
     "showTitle": false,
     "title": ""
    }
   },
   "outputs": [
    {
     "output_type": "stream",
     "name": "stdout",
     "output_type": "stream",
     "text": [
      "+-------+----------+--------------+----------------+--------+-----+----------+\n|OrderID|CustomerID|RestaurantName|        DishName|Quantity|Price| OrderDate|\n+-------+----------+--------------+----------------+--------+-----+----------+\n|      1|       183|     Spice Hub|    Paneer Tikka|       3|  322|2024-06-04|\n|      2|       186|   Sushi World|    Cheeseburger|       5|  466|2024-06-23|\n|      3|       127|   Pasta Place|    Cheeseburger|       5|  260|2024-06-08|\n|      4|       145|  Pizza Palace|  Mango Smoothie|       2|  382|2024-06-26|\n|      5|       144|  Pizza Palace| Pepperoni Pizza|       1|  154|2024-06-26|\n|      6|       110|  Pizza Palace|    Paneer Tikka|       1|  411|2024-06-18|\n|      7|       156|   Pasta Place|    Cheeseburger|       1|  110|2024-06-05|\n|      8|       126|   Sushi World|  Veggie Delight|       5|  494|2024-06-05|\n|      9|       108|  Burger Haven| Pepperoni Pizza|       3|  474|2024-06-02|\n|     10|       119|   Pasta Place| Pepperoni Pizza|       3|  136|2024-06-14|\n|     11|       104|     Spice Hub| California Roll|       5|  421|2024-06-22|\n|     12|       198|   Sushi World| Chicken Biryani|       2|  194|2024-06-09|\n|     13|       177|  Pizza Palace|  Mango Smoothie|       5|  138|2024-06-01|\n|     14|       113|  Pizza Palace|   Chicken Curry|       3|  380|2024-06-07|\n|     15|       108|  Pizza Palace|    Paneer Tikka|       2|  301|2024-06-22|\n|     16|       129|  Pizza Palace| Chicken Biryani|       3|  110|2024-06-20|\n|     17|       157|  Burger Haven| California Roll|       2|  392|2024-06-22|\n|     18|       186|     Spice Hub|Margherita Pizza|       1|  194|2024-06-16|\n|     19|       171|     Spice Hub|   Chicken Curry|       5|  372|2024-06-25|\n|     20|       131|   Sushi World|  Veggie Delight|       2|  150|2024-06-03|\n+-------+----------+--------------+----------------+--------+-----+----------+\nonly showing top 20 rows\n\n"
     ]
    }
   ],
   "source": [
    "df.show()"
   ]
  },
  {
   "cell_type": "code",
   "execution_count": 0,
   "metadata": {
    "application/vnd.databricks.v1+cell": {
     "cellMetadata": {
      "byteLimit": 2048000,
      "rowLimit": 10000
     },
     "inputWidgets": {},
     "nuid": "1fd195b8-3f6e-47c0-8d5c-8b3b5611d151",
     "showTitle": false,
     "title": ""
    }
   },
   "outputs": [
    {
     "output_type": "execute_result",
     "data": {
      "text/plain": [
       "DataFrame[OrderID: int, CustomerID: int, RestaurantName: string, DishName: string, Quantity: int, Price: int, OrderDate: date]"
      ]
     },
     "execution_count": 3,
     "metadata": {},
     "output_type": "execute_result"
    }
   ],
   "source": [
    "df.cache()"
   ]
  },
  {
   "cell_type": "code",
   "execution_count": 0,
   "metadata": {
    "application/vnd.databricks.v1+cell": {
     "cellMetadata": {
      "byteLimit": 2048000,
      "rowLimit": 10000
     },
     "inputWidgets": {},
     "nuid": "728170f6-9349-45b4-b6ee-61a8d3f46b85",
     "showTitle": false,
     "title": ""
    }
   },
   "outputs": [
    {
     "output_type": "stream",
     "name": "stdout",
     "output_type": "stream",
     "text": [
      "root\n |-- OrderID: integer (nullable = true)\n |-- CustomerID: integer (nullable = true)\n |-- RestaurantName: string (nullable = true)\n |-- DishName: string (nullable = true)\n |-- Quantity: integer (nullable = true)\n |-- Price: integer (nullable = true)\n |-- OrderDate: date (nullable = true)\n\n"
     ]
    }
   ],
   "source": [
    "df.printSchema()"
   ]
  },
  {
   "cell_type": "code",
   "execution_count": 0,
   "metadata": {
    "application/vnd.databricks.v1+cell": {
     "cellMetadata": {
      "byteLimit": 2048000,
      "rowLimit": 10000
     },
     "inputWidgets": {},
     "nuid": "ac88bf3a-c7f9-4e34-890a-56bdc248641f",
     "showTitle": false,
     "title": ""
    }
   },
   "outputs": [
    {
     "output_type": "stream",
     "name": "stdout",
     "output_type": "stream",
     "text": [
      "+-------+----------+--------------+--------+--------+-----+---------+\n|OrderID|CustomerID|RestaurantName|DishName|Quantity|Price|OrderDate|\n+-------+----------+--------------+--------+--------+-----+---------+\n|      0|         0|             0|       0|       0|    0|        0|\n+-------+----------+--------------+--------+--------+-----+---------+\n\n"
     ]
    }
   ],
   "source": [
    "from pyspark.sql.functions import *\n",
    "df.select([count(when(isnull(col), col)).alias(col) for col in df.columns]).show()"
   ]
  },
  {
   "cell_type": "code",
   "execution_count": 0,
   "metadata": {
    "application/vnd.databricks.v1+cell": {
     "cellMetadata": {
      "byteLimit": 2048000,
      "rowLimit": 10000
     },
     "inputWidgets": {},
     "nuid": "bcb2f23c-be61-49f0-983c-3292b2f56512",
     "showTitle": false,
     "title": ""
    }
   },
   "outputs": [],
   "source": [
    "df = df.na.drop()"
   ]
  },
  {
   "cell_type": "code",
   "execution_count": 0,
   "metadata": {
    "application/vnd.databricks.v1+cell": {
     "cellMetadata": {
      "byteLimit": 2048000,
      "rowLimit": 10000
     },
     "inputWidgets": {},
     "nuid": "594a60ea-a637-4353-b062-7e992d04d075",
     "showTitle": false,
     "title": ""
    }
   },
   "outputs": [
    {
     "output_type": "stream",
     "name": "stdout",
     "output_type": "stream",
     "text": [
      "+-------+----------+--------------+--------+--------+-----+---------+\n|OrderID|CustomerID|RestaurantName|DishName|Quantity|Price|OrderDate|\n+-------+----------+--------------+--------+--------+-----+---------+\n|      0|         0|             0|       0|       0|    0|        0|\n+-------+----------+--------------+--------+--------+-----+---------+\n\n"
     ]
    }
   ],
   "source": [
    "from pyspark.sql.functions import *\n",
    "df.select([count(when(isnull(col), col)).alias(col) for col in df.columns]).show()"
   ]
  },
  {
   "cell_type": "code",
   "execution_count": 0,
   "metadata": {
    "application/vnd.databricks.v1+cell": {
     "cellMetadata": {
      "byteLimit": 2048000,
      "rowLimit": 10000
     },
     "inputWidgets": {},
     "nuid": "4804fde3-86cd-4a5a-ab94-5dbbaa5fe88e",
     "showTitle": false,
     "title": ""
    }
   },
   "outputs": [],
   "source": [
    "df = df.dropDuplicates()"
   ]
  },
  {
   "cell_type": "code",
   "execution_count": 0,
   "metadata": {
    "application/vnd.databricks.v1+cell": {
     "cellMetadata": {
      "byteLimit": 2048000,
      "rowLimit": 10000
     },
     "inputWidgets": {},
     "nuid": "a4d3547c-e826-40ac-ba98-0b2b94eb760a",
     "showTitle": false,
     "title": ""
    }
   },
   "outputs": [
    {
     "output_type": "stream",
     "name": "stdout",
     "output_type": "stream",
     "text": [
      "+-------+----------+--------------+-------------------+--------+-----+----------+\n|OrderID|CustomerID|RestaurantName|           DishName|Quantity|Price| OrderDate|\n+-------+----------+--------------+-------------------+--------+-----+----------+\n|     84|       186|     Spice Hub|      Chicken Curry|       2|  305|2024-06-24|\n|    639|       173|     Spice Hub|    Pepperoni Pizza|       2|  297|2024-06-10|\n|    782|       140|     Spice Hub|   Margherita Pizza|       4|  149|2024-06-06|\n|    797|       150|  Burger Haven|       Paneer Tikka|       2|  159|2024-06-19|\n|     14|       113|  Pizza Palace|      Chicken Curry|       3|  380|2024-06-07|\n|    316|       178|   Sushi World|       Paneer Tikka|       3|  221|2024-06-08|\n|    318|       115|     Spice Hub|   Margherita Pizza|       1|  457|2024-06-15|\n|    543|       181|  Pizza Palace|    California Roll|       1|  430|2024-06-18|\n|    612|       129|  Burger Haven|    Pepperoni Pizza|       3|  143|2024-06-15|\n|    743|       157|   Sushi World|      Chicken Curry|       5|  448|2024-06-12|\n|     17|       157|  Burger Haven|    California Roll|       2|  392|2024-06-22|\n|    224|       160|   Pasta Place|   Margherita Pizza|       1|  142|2024-06-16|\n|    444|       191|  Burger Haven|      Chicken Curry|       5|  142|2024-06-10|\n|    618|       191|   Pasta Place|Spaghetti Carbonara|       3|  187|2024-06-24|\n|    627|       158|  Pizza Palace|Spaghetti Carbonara|       3|  364|2024-06-26|\n|    773|       107|  Pizza Palace|   Margherita Pizza|       2|  107|2024-06-27|\n|    863|       196|  Pizza Palace|   Margherita Pizza|       3|  479|2024-06-04|\n|    248|       111|     Spice Hub|     Veggie Delight|       1|  334|2024-06-16|\n|    266|       126|   Pasta Place|     Veggie Delight|       1|  233|2024-06-23|\n|    565|       191|   Pasta Place|       Cheeseburger|       3|  110|2024-06-27|\n+-------+----------+--------------+-------------------+--------+-----+----------+\nonly showing top 20 rows\n\n"
     ]
    }
   ],
   "source": [
    "df.show()"
   ]
  },
  {
   "cell_type": "code",
   "execution_count": 0,
   "metadata": {
    "application/vnd.databricks.v1+cell": {
     "cellMetadata": {
      "byteLimit": 2048000,
      "rowLimit": 10000
     },
     "inputWidgets": {},
     "nuid": "88aff7f1-7575-4deb-aed3-b69a5528db5e",
     "showTitle": false,
     "title": ""
    }
   },
   "outputs": [
    {
     "output_type": "stream",
     "name": "stdout",
     "output_type": "stream",
     "text": [
      "+-------+----------+--------------+-------------------+--------+-----+----------+-----+\n|OrderID|CustomerID|RestaurantName|           DishName|Quantity|Price| OrderDate|month|\n+-------+----------+--------------+-------------------+--------+-----+----------+-----+\n|     84|       186|     Spice Hub|      Chicken Curry|       2|  305|2024-06-24|    6|\n|    639|       173|     Spice Hub|    Pepperoni Pizza|       2|  297|2024-06-10|    6|\n|    782|       140|     Spice Hub|   Margherita Pizza|       4|  149|2024-06-06|    6|\n|    797|       150|  Burger Haven|       Paneer Tikka|       2|  159|2024-06-19|    6|\n|     14|       113|  Pizza Palace|      Chicken Curry|       3|  380|2024-06-07|    6|\n|    316|       178|   Sushi World|       Paneer Tikka|       3|  221|2024-06-08|    6|\n|    318|       115|     Spice Hub|   Margherita Pizza|       1|  457|2024-06-15|    6|\n|    543|       181|  Pizza Palace|    California Roll|       1|  430|2024-06-18|    6|\n|    612|       129|  Burger Haven|    Pepperoni Pizza|       3|  143|2024-06-15|    6|\n|    743|       157|   Sushi World|      Chicken Curry|       5|  448|2024-06-12|    6|\n|     17|       157|  Burger Haven|    California Roll|       2|  392|2024-06-22|    6|\n|    224|       160|   Pasta Place|   Margherita Pizza|       1|  142|2024-06-16|    6|\n|    444|       191|  Burger Haven|      Chicken Curry|       5|  142|2024-06-10|    6|\n|    618|       191|   Pasta Place|Spaghetti Carbonara|       3|  187|2024-06-24|    6|\n|    627|       158|  Pizza Palace|Spaghetti Carbonara|       3|  364|2024-06-26|    6|\n|    773|       107|  Pizza Palace|   Margherita Pizza|       2|  107|2024-06-27|    6|\n|    863|       196|  Pizza Palace|   Margherita Pizza|       3|  479|2024-06-04|    6|\n|    248|       111|     Spice Hub|     Veggie Delight|       1|  334|2024-06-16|    6|\n|    266|       126|   Pasta Place|     Veggie Delight|       1|  233|2024-06-23|    6|\n|    565|       191|   Pasta Place|       Cheeseburger|       3|  110|2024-06-27|    6|\n+-------+----------+--------------+-------------------+--------+-----+----------+-----+\nonly showing top 20 rows\n\n"
     ]
    }
   ],
   "source": [
    "df = df.withColumn(\"month\", month(\"OrderDate\"))\n",
    "df.show()"
   ]
  },
  {
   "cell_type": "code",
   "execution_count": 0,
   "metadata": {
    "application/vnd.databricks.v1+cell": {
     "cellMetadata": {
      "byteLimit": 2048000,
      "rowLimit": 10000
     },
     "inputWidgets": {},
     "nuid": "e8e26ea1-777b-46ac-b9a2-db888e5f8af8",
     "showTitle": false,
     "title": ""
    }
   },
   "outputs": [],
   "source": [
    "# from pyspark.ml.feature import StringIndexer\n",
    "# indexer = StringIndexer(inputCol='Month',outputCol='Month_index')\n",
    "# # fit string indexer model on the dataframe\n",
    "# df1 = indexer.fit(df).transform(df)\n",
    "# df1.show()"
   ]
  },
  {
   "cell_type": "code",
   "execution_count": 0,
   "metadata": {
    "application/vnd.databricks.v1+cell": {
     "cellMetadata": {
      "byteLimit": 2048000,
      "rowLimit": 10000
     },
     "inputWidgets": {},
     "nuid": "ae034a4d-26f2-424c-af13-eb385fe1e3ca",
     "showTitle": false,
     "title": ""
    }
   },
   "outputs": [],
   "source": [
    "# df2 = df1.drop('Month')"
   ]
  },
  {
   "cell_type": "code",
   "execution_count": 0,
   "metadata": {
    "application/vnd.databricks.v1+cell": {
     "cellMetadata": {
      "byteLimit": 2048000,
      "rowLimit": 10000
     },
     "inputWidgets": {},
     "nuid": "646259f9-9e6a-423f-8bf4-f32439ea9dbd",
     "showTitle": false,
     "title": ""
    }
   },
   "outputs": [],
   "source": [
    "df.createOrReplaceTempView(\"zomato\")"
   ]
  },
  {
   "cell_type": "markdown",
   "metadata": {
    "application/vnd.databricks.v1+cell": {
     "cellMetadata": {},
     "inputWidgets": {},
     "nuid": "bfc762fe-6484-4f70-8c17-3251b92bd650",
     "showTitle": false,
     "title": ""
    }
   },
   "source": [
    " Total Revenue per Restaurant"
   ]
  },
  {
   "cell_type": "code",
   "execution_count": 0,
   "metadata": {
    "application/vnd.databricks.v1+cell": {
     "cellMetadata": {
      "byteLimit": 2048000,
      "implicitDf": true,
      "rowLimit": 10000
     },
     "inputWidgets": {},
     "nuid": "56e36ea0-8b97-4f1c-a573-1a3c0eb552f6",
     "showTitle": false,
     "title": ""
    }
   },
   "outputs": [
    {
     "output_type": "display_data",
     "data": {
      "text/html": [
       "<style scoped>\n",
       "  .table-result-container {\n",
       "    max-height: 300px;\n",
       "    overflow: auto;\n",
       "  }\n",
       "  table, th, td {\n",
       "    border: 1px solid black;\n",
       "    border-collapse: collapse;\n",
       "  }\n",
       "  th, td {\n",
       "    padding: 5px;\n",
       "  }\n",
       "  th {\n",
       "    text-align: left;\n",
       "  }\n",
       "</style><div class='table-result-container'><table class='table-result'><thead style='background-color: white'><tr><th>RestaurantName</th><th>TotalRevenue</th></tr></thead><tbody><tr><td>Sushi World</td><td>197839</td></tr><tr><td>Burger Haven</td><td>193339</td></tr><tr><td>Spice Hub</td><td>171724</td></tr><tr><td>Pasta Place</td><td>171008</td></tr><tr><td>Pizza Palace</td><td>166896</td></tr></tbody></table></div>"
      ]
     },
     "metadata": {
      "application/vnd.databricks.v1+output": {
       "addedWidgets": {},
       "aggData": [],
       "aggError": "",
       "aggOverflow": false,
       "aggSchema": [],
       "aggSeriesLimitReached": false,
       "aggType": "",
       "arguments": {},
       "columnCustomDisplayInfos": {},
       "data": [
        [
         "Sushi World",
         197839
        ],
        [
         "Burger Haven",
         193339
        ],
        [
         "Spice Hub",
         171724
        ],
        [
         "Pasta Place",
         171008
        ],
        [
         "Pizza Palace",
         166896
        ]
       ],
       "datasetInfos": [],
       "dbfsResultPath": null,
       "isJsonSchema": true,
       "metadata": {
        "dataframeName": "_sqldf",
        "executionCount": 18
       },
       "overflow": false,
       "plotOptions": {
        "customPlotOptions": {},
        "displayType": "table",
        "pivotAggregation": null,
        "pivotColumns": null,
        "xColumns": null,
        "yColumns": null
       },
       "removedWidgets": [],
       "schema": [
        {
         "metadata": "{}",
         "name": "RestaurantName",
         "type": "\"string\""
        },
        {
         "metadata": "{}",
         "name": "TotalRevenue",
         "type": "\"long\""
        }
       ],
       "type": "table"
      }
     },
     "output_type": "display_data"
    }
   ],
   "source": [
    "%sql\n",
    "SELECT RestaurantName, SUM(Quantity * Price) AS TotalRevenue\n",
    "FROM zomato\n",
    "GROUP BY RestaurantName\n",
    "ORDER BY TotalRevenue DESC;"
   ]
  },
  {
   "cell_type": "markdown",
   "metadata": {
    "application/vnd.databricks.v1+cell": {
     "cellMetadata": {},
     "inputWidgets": {},
     "nuid": "1be853c5-cca6-4313-96b7-588bc98c1043",
     "showTitle": false,
     "title": ""
    }
   },
   "source": [
    "Most Popular Dish by Restaurant"
   ]
  },
  {
   "cell_type": "code",
   "execution_count": 0,
   "metadata": {
    "application/vnd.databricks.v1+cell": {
     "cellMetadata": {
      "byteLimit": 2048000,
      "implicitDf": true,
      "rowLimit": 10000
     },
     "inputWidgets": {},
     "nuid": "ea1d708d-626a-44a3-a78f-3a978cfa8087",
     "showTitle": false,
     "title": ""
    }
   },
   "outputs": [
    {
     "output_type": "display_data",
     "data": {
      "text/html": [
       "<style scoped>\n",
       "  .table-result-container {\n",
       "    max-height: 300px;\n",
       "    overflow: auto;\n",
       "  }\n",
       "  table, th, td {\n",
       "    border: 1px solid black;\n",
       "    border-collapse: collapse;\n",
       "  }\n",
       "  th, td {\n",
       "    padding: 5px;\n",
       "  }\n",
       "  th {\n",
       "    text-align: left;\n",
       "  }\n",
       "</style><div class='table-result-container'><table class='table-result'><thead style='background-color: white'><tr><th>RestaurantName</th><th>DishName</th><th>TotalOrdered</th></tr></thead><tbody><tr><td>Burger Haven</td><td>Cheeseburger</td><td>90</td></tr><tr><td>Burger Haven</td><td>Veggie Delight</td><td>75</td></tr><tr><td>Burger Haven</td><td>Chicken Curry</td><td>75</td></tr><tr><td>Burger Haven</td><td>Spaghetti Carbonara</td><td>74</td></tr><tr><td>Burger Haven</td><td>Margherita Pizza</td><td>61</td></tr><tr><td>Burger Haven</td><td>Mango Smoothie</td><td>58</td></tr><tr><td>Burger Haven</td><td>California Roll</td><td>57</td></tr><tr><td>Burger Haven</td><td>Paneer Tikka</td><td>54</td></tr><tr><td>Burger Haven</td><td>Chicken Biryani</td><td>54</td></tr><tr><td>Burger Haven</td><td>Pepperoni Pizza</td><td>47</td></tr><tr><td>Pasta Place</td><td>Pepperoni Pizza</td><td>74</td></tr><tr><td>Pasta Place</td><td>Cheeseburger</td><td>69</td></tr><tr><td>Pasta Place</td><td>Chicken Curry</td><td>69</td></tr><tr><td>Pasta Place</td><td>Margherita Pizza</td><td>64</td></tr><tr><td>Pasta Place</td><td>Paneer Tikka</td><td>59</td></tr><tr><td>Pasta Place</td><td>Spaghetti Carbonara</td><td>52</td></tr><tr><td>Pasta Place</td><td>Mango Smoothie</td><td>52</td></tr><tr><td>Pasta Place</td><td>Chicken Biryani</td><td>49</td></tr><tr><td>Pasta Place</td><td>California Roll</td><td>44</td></tr><tr><td>Pasta Place</td><td>Veggie Delight</td><td>33</td></tr><tr><td>Pizza Palace</td><td>Paneer Tikka</td><td>70</td></tr><tr><td>Pizza Palace</td><td>California Roll</td><td>68</td></tr><tr><td>Pizza Palace</td><td>Mango Smoothie</td><td>62</td></tr><tr><td>Pizza Palace</td><td>Cheeseburger</td><td>61</td></tr><tr><td>Pizza Palace</td><td>Pepperoni Pizza</td><td>60</td></tr><tr><td>Pizza Palace</td><td>Chicken Curry</td><td>54</td></tr><tr><td>Pizza Palace</td><td>Chicken Biryani</td><td>51</td></tr><tr><td>Pizza Palace</td><td>Margherita Pizza</td><td>49</td></tr><tr><td>Pizza Palace</td><td>Spaghetti Carbonara</td><td>43</td></tr><tr><td>Pizza Palace</td><td>Veggie Delight</td><td>24</td></tr><tr><td>Spice Hub</td><td>California Roll</td><td>86</td></tr><tr><td>Spice Hub</td><td>Margherita Pizza</td><td>75</td></tr><tr><td>Spice Hub</td><td>Chicken Curry</td><td>58</td></tr><tr><td>Spice Hub</td><td>Mango Smoothie</td><td>58</td></tr><tr><td>Spice Hub</td><td>Pepperoni Pizza</td><td>55</td></tr><tr><td>Spice Hub</td><td>Chicken Biryani</td><td>49</td></tr><tr><td>Spice Hub</td><td>Cheeseburger</td><td>47</td></tr><tr><td>Spice Hub</td><td>Paneer Tikka</td><td>46</td></tr><tr><td>Spice Hub</td><td>Veggie Delight</td><td>44</td></tr><tr><td>Spice Hub</td><td>Spaghetti Carbonara</td><td>44</td></tr><tr><td>Sushi World</td><td>Paneer Tikka</td><td>87</td></tr><tr><td>Sushi World</td><td>Cheeseburger</td><td>83</td></tr><tr><td>Sushi World</td><td>Chicken Biryani</td><td>75</td></tr><tr><td>Sushi World</td><td>Chicken Curry</td><td>71</td></tr><tr><td>Sushi World</td><td>California Roll</td><td>66</td></tr><tr><td>Sushi World</td><td>Mango Smoothie</td><td>66</td></tr><tr><td>Sushi World</td><td>Margherita Pizza</td><td>55</td></tr><tr><td>Sushi World</td><td>Veggie Delight</td><td>53</td></tr><tr><td>Sushi World</td><td>Spaghetti Carbonara</td><td>52</td></tr><tr><td>Sushi World</td><td>Pepperoni Pizza</td><td>47</td></tr></tbody></table></div>"
      ]
     },
     "metadata": {
      "application/vnd.databricks.v1+output": {
       "addedWidgets": {},
       "aggData": [],
       "aggError": "",
       "aggOverflow": false,
       "aggSchema": [],
       "aggSeriesLimitReached": false,
       "aggType": "",
       "arguments": {},
       "columnCustomDisplayInfos": {},
       "data": [
        [
         "Burger Haven",
         "Cheeseburger",
         90
        ],
        [
         "Burger Haven",
         "Veggie Delight",
         75
        ],
        [
         "Burger Haven",
         "Chicken Curry",
         75
        ],
        [
         "Burger Haven",
         "Spaghetti Carbonara",
         74
        ],
        [
         "Burger Haven",
         "Margherita Pizza",
         61
        ],
        [
         "Burger Haven",
         "Mango Smoothie",
         58
        ],
        [
         "Burger Haven",
         "California Roll",
         57
        ],
        [
         "Burger Haven",
         "Paneer Tikka",
         54
        ],
        [
         "Burger Haven",
         "Chicken Biryani",
         54
        ],
        [
         "Burger Haven",
         "Pepperoni Pizza",
         47
        ],
        [
         "Pasta Place",
         "Pepperoni Pizza",
         74
        ],
        [
         "Pasta Place",
         "Cheeseburger",
         69
        ],
        [
         "Pasta Place",
         "Chicken Curry",
         69
        ],
        [
         "Pasta Place",
         "Margherita Pizza",
         64
        ],
        [
         "Pasta Place",
         "Paneer Tikka",
         59
        ],
        [
         "Pasta Place",
         "Spaghetti Carbonara",
         52
        ],
        [
         "Pasta Place",
         "Mango Smoothie",
         52
        ],
        [
         "Pasta Place",
         "Chicken Biryani",
         49
        ],
        [
         "Pasta Place",
         "California Roll",
         44
        ],
        [
         "Pasta Place",
         "Veggie Delight",
         33
        ],
        [
         "Pizza Palace",
         "Paneer Tikka",
         70
        ],
        [
         "Pizza Palace",
         "California Roll",
         68
        ],
        [
         "Pizza Palace",
         "Mango Smoothie",
         62
        ],
        [
         "Pizza Palace",
         "Cheeseburger",
         61
        ],
        [
         "Pizza Palace",
         "Pepperoni Pizza",
         60
        ],
        [
         "Pizza Palace",
         "Chicken Curry",
         54
        ],
        [
         "Pizza Palace",
         "Chicken Biryani",
         51
        ],
        [
         "Pizza Palace",
         "Margherita Pizza",
         49
        ],
        [
         "Pizza Palace",
         "Spaghetti Carbonara",
         43
        ],
        [
         "Pizza Palace",
         "Veggie Delight",
         24
        ],
        [
         "Spice Hub",
         "California Roll",
         86
        ],
        [
         "Spice Hub",
         "Margherita Pizza",
         75
        ],
        [
         "Spice Hub",
         "Chicken Curry",
         58
        ],
        [
         "Spice Hub",
         "Mango Smoothie",
         58
        ],
        [
         "Spice Hub",
         "Pepperoni Pizza",
         55
        ],
        [
         "Spice Hub",
         "Chicken Biryani",
         49
        ],
        [
         "Spice Hub",
         "Cheeseburger",
         47
        ],
        [
         "Spice Hub",
         "Paneer Tikka",
         46
        ],
        [
         "Spice Hub",
         "Veggie Delight",
         44
        ],
        [
         "Spice Hub",
         "Spaghetti Carbonara",
         44
        ],
        [
         "Sushi World",
         "Paneer Tikka",
         87
        ],
        [
         "Sushi World",
         "Cheeseburger",
         83
        ],
        [
         "Sushi World",
         "Chicken Biryani",
         75
        ],
        [
         "Sushi World",
         "Chicken Curry",
         71
        ],
        [
         "Sushi World",
         "California Roll",
         66
        ],
        [
         "Sushi World",
         "Mango Smoothie",
         66
        ],
        [
         "Sushi World",
         "Margherita Pizza",
         55
        ],
        [
         "Sushi World",
         "Veggie Delight",
         53
        ],
        [
         "Sushi World",
         "Spaghetti Carbonara",
         52
        ],
        [
         "Sushi World",
         "Pepperoni Pizza",
         47
        ]
       ],
       "datasetInfos": [],
       "dbfsResultPath": null,
       "isJsonSchema": true,
       "metadata": {
        "dataframeName": "_sqldf",
        "executionCount": 19
       },
       "overflow": false,
       "plotOptions": {
        "customPlotOptions": {},
        "displayType": "table",
        "pivotAggregation": null,
        "pivotColumns": null,
        "xColumns": null,
        "yColumns": null
       },
       "removedWidgets": [],
       "schema": [
        {
         "metadata": "{}",
         "name": "RestaurantName",
         "type": "\"string\""
        },
        {
         "metadata": "{}",
         "name": "DishName",
         "type": "\"string\""
        },
        {
         "metadata": "{}",
         "name": "TotalOrdered",
         "type": "\"long\""
        }
       ],
       "type": "table"
      }
     },
     "output_type": "display_data"
    }
   ],
   "source": [
    "%sql\n",
    "SELECT RestaurantName, DishName, SUM(Quantity) AS TotalOrdered\n",
    "FROM zomato\n",
    "GROUP BY RestaurantName, DishName\n",
    "ORDER BY RestaurantName, TotalOrdered DESC;"
   ]
  },
  {
   "cell_type": "markdown",
   "metadata": {
    "application/vnd.databricks.v1+cell": {
     "cellMetadata": {},
     "inputWidgets": {},
     "nuid": "8fd2b1ec-9e71-454a-8c5d-bbe1e3c7efad",
     "showTitle": false,
     "title": ""
    }
   },
   "source": [
    "Top 5 Customers by Order Count"
   ]
  },
  {
   "cell_type": "code",
   "execution_count": 0,
   "metadata": {
    "application/vnd.databricks.v1+cell": {
     "cellMetadata": {
      "byteLimit": 2048000,
      "implicitDf": true,
      "rowLimit": 10000
     },
     "inputWidgets": {},
     "nuid": "b2699914-2581-4d29-9976-a5a285be83ed",
     "showTitle": false,
     "title": ""
    }
   },
   "outputs": [
    {
     "output_type": "display_data",
     "data": {
      "text/html": [
       "<style scoped>\n",
       "  .table-result-container {\n",
       "    max-height: 300px;\n",
       "    overflow: auto;\n",
       "  }\n",
       "  table, th, td {\n",
       "    border: 1px solid black;\n",
       "    border-collapse: collapse;\n",
       "  }\n",
       "  th, td {\n",
       "    padding: 5px;\n",
       "  }\n",
       "  th {\n",
       "    text-align: left;\n",
       "  }\n",
       "</style><div class='table-result-container'><table class='table-result'><thead style='background-color: white'><tr><th>CustomerID</th><th>OrderCount</th></tr></thead><tbody><tr><td>130</td><td>17</td></tr><tr><td>111</td><td>17</td></tr><tr><td>117</td><td>16</td></tr><tr><td>177</td><td>16</td></tr><tr><td>123</td><td>16</td></tr></tbody></table></div>"
      ]
     },
     "metadata": {
      "application/vnd.databricks.v1+output": {
       "addedWidgets": {},
       "aggData": [],
       "aggError": "",
       "aggOverflow": false,
       "aggSchema": [],
       "aggSeriesLimitReached": false,
       "aggType": "",
       "arguments": {},
       "columnCustomDisplayInfos": {},
       "data": [
        [
         130,
         17
        ],
        [
         111,
         17
        ],
        [
         117,
         16
        ],
        [
         177,
         16
        ],
        [
         123,
         16
        ]
       ],
       "datasetInfos": [],
       "dbfsResultPath": null,
       "isJsonSchema": true,
       "metadata": {
        "dataframeName": "_sqldf",
        "executionCount": 20
       },
       "overflow": false,
       "plotOptions": {
        "customPlotOptions": {},
        "displayType": "table",
        "pivotAggregation": null,
        "pivotColumns": null,
        "xColumns": null,
        "yColumns": null
       },
       "removedWidgets": [],
       "schema": [
        {
         "metadata": "{}",
         "name": "CustomerID",
         "type": "\"integer\""
        },
        {
         "metadata": "{}",
         "name": "OrderCount",
         "type": "\"long\""
        }
       ],
       "type": "table"
      }
     },
     "output_type": "display_data"
    }
   ],
   "source": [
    "%sql\n",
    "SELECT CustomerID, COUNT(OrderID) AS OrderCount\n",
    "FROM zomato\n",
    "GROUP BY CustomerID\n",
    "ORDER BY OrderCount DESC\n",
    "LIMIT 5;"
   ]
  },
  {
   "cell_type": "markdown",
   "metadata": {
    "application/vnd.databricks.v1+cell": {
     "cellMetadata": {},
     "inputWidgets": {},
     "nuid": "2155d402-f062-4097-be0f-e510c8fdd4ce",
     "showTitle": false,
     "title": ""
    }
   },
   "source": [
    "Total Orders and Revenue by Month\n",
    "\n"
   ]
  },
  {
   "cell_type": "code",
   "execution_count": 0,
   "metadata": {
    "application/vnd.databricks.v1+cell": {
     "cellMetadata": {
      "byteLimit": 2048000,
      "implicitDf": true,
      "rowLimit": 10000
     },
     "inputWidgets": {},
     "nuid": "ff92b2ae-c117-46d3-802f-732f0b5ac54a",
     "showTitle": false,
     "title": ""
    }
   },
   "outputs": [
    {
     "output_type": "display_data",
     "data": {
      "text/html": [
       "<style scoped>\n",
       "  .table-result-container {\n",
       "    max-height: 300px;\n",
       "    overflow: auto;\n",
       "  }\n",
       "  table, th, td {\n",
       "    border: 1px solid black;\n",
       "    border-collapse: collapse;\n",
       "  }\n",
       "  th, td {\n",
       "    padding: 5px;\n",
       "  }\n",
       "  th {\n",
       "    text-align: left;\n",
       "  }\n",
       "</style><div class='table-result-container'><table class='table-result'><thead style='background-color: white'><tr><th>month</th><th>TotalOrders</th><th>TotalRevenue</th></tr></thead><tbody><tr><td>6</td><td>1000</td><td>900806</td></tr></tbody></table></div>"
      ]
     },
     "metadata": {
      "application/vnd.databricks.v1+output": {
       "addedWidgets": {},
       "aggData": [],
       "aggError": "",
       "aggOverflow": false,
       "aggSchema": [],
       "aggSeriesLimitReached": false,
       "aggType": "",
       "arguments": {},
       "columnCustomDisplayInfos": {},
       "data": [
        [
         6,
         1000,
         900806
        ]
       ],
       "datasetInfos": [],
       "dbfsResultPath": null,
       "isJsonSchema": true,
       "metadata": {
        "dataframeName": "_sqldf",
        "executionCount": 30
       },
       "overflow": false,
       "plotOptions": {
        "customPlotOptions": {},
        "displayType": "table",
        "pivotAggregation": null,
        "pivotColumns": null,
        "xColumns": null,
        "yColumns": null
       },
       "removedWidgets": [],
       "schema": [
        {
         "metadata": "{}",
         "name": "month",
         "type": "\"integer\""
        },
        {
         "metadata": "{}",
         "name": "TotalOrders",
         "type": "\"long\""
        },
        {
         "metadata": "{}",
         "name": "TotalRevenue",
         "type": "\"long\""
        }
       ],
       "type": "table"
      }
     },
     "output_type": "display_data"
    }
   ],
   "source": [
    "%sql\n",
    "SELECT month, COUNT(OrderID) AS TotalOrders, SUM(Quantity * Price) AS TotalRevenue\n",
    "FROM zomato\n",
    "GROUP BY month\n",
    "ORDER BY month;"
   ]
  },
  {
   "cell_type": "markdown",
   "metadata": {
    "application/vnd.databricks.v1+cell": {
     "cellMetadata": {},
     "inputWidgets": {},
     "nuid": "dfa96392-59f0-4fb0-abc8-b92154dbb0e1",
     "showTitle": false,
     "title": ""
    }
   },
   "source": [
    " Average Order Value by Restaurant"
   ]
  },
  {
   "cell_type": "code",
   "execution_count": 0,
   "metadata": {
    "application/vnd.databricks.v1+cell": {
     "cellMetadata": {
      "byteLimit": 2048000,
      "implicitDf": true,
      "rowLimit": 10000
     },
     "inputWidgets": {},
     "nuid": "b52ef957-453f-4009-97d0-9bb6735ca794",
     "showTitle": false,
     "title": ""
    }
   },
   "outputs": [
    {
     "output_type": "display_data",
     "data": {
      "text/html": [
       "<style scoped>\n",
       "  .table-result-container {\n",
       "    max-height: 300px;\n",
       "    overflow: auto;\n",
       "  }\n",
       "  table, th, td {\n",
       "    border: 1px solid black;\n",
       "    border-collapse: collapse;\n",
       "  }\n",
       "  th, td {\n",
       "    padding: 5px;\n",
       "  }\n",
       "  th {\n",
       "    text-align: left;\n",
       "  }\n",
       "</style><div class='table-result-container'><table class='table-result'><thead style='background-color: white'><tr><th>RestaurantName</th><th>AvgOrderValue</th></tr></thead><tbody><tr><td>Burger Haven</td><td>952.4088669950739</td></tr><tr><td>Sushi World</td><td>915.9212962962963</td></tr><tr><td>Spice Hub</td><td>894.3958333333334</td></tr><tr><td>Pizza Palace</td><td>892.4919786096257</td></tr><tr><td>Pasta Place</td><td>846.5742574257425</td></tr></tbody></table></div>"
      ]
     },
     "metadata": {
      "application/vnd.databricks.v1+output": {
       "addedWidgets": {},
       "aggData": [],
       "aggError": "",
       "aggOverflow": false,
       "aggSchema": [],
       "aggSeriesLimitReached": false,
       "aggType": "",
       "arguments": {},
       "columnCustomDisplayInfos": {},
       "data": [
        [
         "Burger Haven",
         952.4088669950739
        ],
        [
         "Sushi World",
         915.9212962962963
        ],
        [
         "Spice Hub",
         894.3958333333334
        ],
        [
         "Pizza Palace",
         892.4919786096257
        ],
        [
         "Pasta Place",
         846.5742574257425
        ]
       ],
       "datasetInfos": [],
       "dbfsResultPath": null,
       "isJsonSchema": true,
       "metadata": {
        "dataframeName": "_sqldf",
        "executionCount": 31
       },
       "overflow": false,
       "plotOptions": {
        "customPlotOptions": {},
        "displayType": "table",
        "pivotAggregation": null,
        "pivotColumns": null,
        "xColumns": null,
        "yColumns": null
       },
       "removedWidgets": [],
       "schema": [
        {
         "metadata": "{}",
         "name": "RestaurantName",
         "type": "\"string\""
        },
        {
         "metadata": "{}",
         "name": "AvgOrderValue",
         "type": "\"double\""
        }
       ],
       "type": "table"
      }
     },
     "output_type": "display_data"
    }
   ],
   "source": [
    "%sql\n",
    "SELECT RestaurantName, AVG(Quantity * Price) AS AvgOrderValue\n",
    "FROM zomato\n",
    "GROUP BY RestaurantName\n",
    "ORDER BY AvgOrderValue DESC;\n",
    "\n"
   ]
  },
  {
   "cell_type": "markdown",
   "metadata": {
    "application/vnd.databricks.v1+cell": {
     "cellMetadata": {},
     "inputWidgets": {},
     "nuid": "d4e345b3-afb5-41c2-b92d-5c6888321bb0",
     "showTitle": false,
     "title": ""
    }
   },
   "source": [
    "Find restaurants whose average revenue per order is above the overall average."
   ]
  },
  {
   "cell_type": "code",
   "execution_count": 0,
   "metadata": {
    "application/vnd.databricks.v1+cell": {
     "cellMetadata": {
      "byteLimit": 2048000,
      "implicitDf": true,
      "rowLimit": 10000
     },
     "inputWidgets": {},
     "nuid": "0fb7de2c-afcb-4679-9e60-7fc04f800c17",
     "showTitle": false,
     "title": ""
    }
   },
   "outputs": [
    {
     "output_type": "display_data",
     "data": {
      "text/html": [
       "<style scoped>\n",
       "  .table-result-container {\n",
       "    max-height: 300px;\n",
       "    overflow: auto;\n",
       "  }\n",
       "  table, th, td {\n",
       "    border: 1px solid black;\n",
       "    border-collapse: collapse;\n",
       "  }\n",
       "  th, td {\n",
       "    padding: 5px;\n",
       "  }\n",
       "  th {\n",
       "    text-align: left;\n",
       "  }\n",
       "</style><div class='table-result-container'><table class='table-result'><thead style='background-color: white'><tr><th>RestaurantName</th><th>AvgRevenuePerOrder</th></tr></thead><tbody><tr><td>Burger Haven</td><td>952.4088669950739</td></tr><tr><td>Sushi World</td><td>915.9212962962963</td></tr></tbody></table></div>"
      ]
     },
     "metadata": {
      "application/vnd.databricks.v1+output": {
       "addedWidgets": {},
       "aggData": [],
       "aggError": "",
       "aggOverflow": false,
       "aggSchema": [],
       "aggSeriesLimitReached": false,
       "aggType": "",
       "arguments": {},
       "columnCustomDisplayInfos": {},
       "data": [
        [
         "Burger Haven",
         952.4088669950739
        ],
        [
         "Sushi World",
         915.9212962962963
        ]
       ],
       "datasetInfos": [],
       "dbfsResultPath": null,
       "isJsonSchema": true,
       "metadata": {
        "dataframeName": "_sqldf",
        "executionCount": 32
       },
       "overflow": false,
       "plotOptions": {
        "customPlotOptions": {},
        "displayType": "table",
        "pivotAggregation": null,
        "pivotColumns": null,
        "xColumns": null,
        "yColumns": null
       },
       "removedWidgets": [],
       "schema": [
        {
         "metadata": "{}",
         "name": "RestaurantName",
         "type": "\"string\""
        },
        {
         "metadata": "{}",
         "name": "AvgRevenuePerOrder",
         "type": "\"double\""
        }
       ],
       "type": "table"
      }
     },
     "output_type": "display_data"
    }
   ],
   "source": [
    "%sql\n",
    "SELECT RestaurantName, AVG(Quantity * Price) AS AvgRevenuePerOrder\n",
    "FROM zomato\n",
    "GROUP BY RestaurantName\n",
    "HAVING AVG(Quantity * Price) > (\n",
    "    SELECT AVG(OrderRevenue) \n",
    "    FROM (\n",
    "        SELECT (Quantity * Price) AS OrderRevenue\n",
    "        FROM zomato\n",
    "    ) AS OrderRevenues\n",
    ")\n",
    "ORDER BY AvgRevenuePerOrder DESC;\n"
   ]
  },
  {
   "cell_type": "markdown",
   "metadata": {
    "application/vnd.databricks.v1+cell": {
     "cellMetadata": {},
     "inputWidgets": {},
     "nuid": "f6382492-ab94-44bd-9775-cae39a5d0313",
     "showTitle": false,
     "title": ""
    }
   },
   "source": [
    "Finding the Most Recent Order for Each Customer"
   ]
  },
  {
   "cell_type": "code",
   "execution_count": 0,
   "metadata": {
    "application/vnd.databricks.v1+cell": {
     "cellMetadata": {
      "byteLimit": 2048000,
      "implicitDf": true,
      "rowLimit": 10000
     },
     "inputWidgets": {},
     "nuid": "a6cbf801-e6e8-42f5-bec5-f0298c2cb6b5",
     "showTitle": false,
     "title": ""
    }
   },
   "outputs": [
    {
     "output_type": "display_data",
     "data": {
      "text/html": [
       "<style scoped>\n",
       "  .table-result-container {\n",
       "    max-height: 300px;\n",
       "    overflow: auto;\n",
       "  }\n",
       "  table, th, td {\n",
       "    border: 1px solid black;\n",
       "    border-collapse: collapse;\n",
       "  }\n",
       "  th, td {\n",
       "    padding: 5px;\n",
       "  }\n",
       "  th {\n",
       "    text-align: left;\n",
       "  }\n",
       "</style><div class='table-result-container'><table class='table-result'><thead style='background-color: white'><tr><th>CustomerID</th><th>OrderID</th><th>RestaurantName</th><th>DishName</th><th>Quantity</th><th>Price</th><th>OrderDate</th></tr></thead><tbody><tr><td>191</td><td>565</td><td>Pasta Place</td><td>Cheeseburger</td><td>3</td><td>110</td><td>2024-06-27</td></tr><tr><td>183</td><td>336</td><td>Sushi World</td><td>Chicken Biryani</td><td>5</td><td>362</td><td>2024-06-21</td></tr><tr><td>120</td><td>42</td><td>Burger Haven</td><td>Paneer Tikka</td><td>5</td><td>491</td><td>2024-06-28</td></tr><tr><td>135</td><td>916</td><td>Pasta Place</td><td>California Roll</td><td>2</td><td>451</td><td>2024-06-20</td></tr><tr><td>168</td><td>862</td><td>Sushi World</td><td>Cheeseburger</td><td>1</td><td>190</td><td>2024-06-28</td></tr><tr><td>188</td><td>300</td><td>Spice Hub</td><td>Spaghetti Carbonara</td><td>3</td><td>204</td><td>2024-06-26</td></tr><tr><td>196</td><td>479</td><td>Spice Hub</td><td>Cheeseburger</td><td>1</td><td>125</td><td>2024-06-28</td></tr><tr><td>176</td><td>243</td><td>Spice Hub</td><td>Paneer Tikka</td><td>1</td><td>165</td><td>2024-06-27</td></tr><tr><td>127</td><td>287</td><td>Spice Hub</td><td>Chicken Biryani</td><td>4</td><td>171</td><td>2024-06-27</td></tr><tr><td>114</td><td>633</td><td>Burger Haven</td><td>Chicken Curry</td><td>1</td><td>363</td><td>2024-06-28</td></tr><tr><td>125</td><td>109</td><td>Pizza Palace</td><td>Mango Smoothie</td><td>3</td><td>362</td><td>2024-06-25</td></tr><tr><td>177</td><td>739</td><td>Pizza Palace</td><td>Paneer Tikka</td><td>5</td><td>474</td><td>2024-06-22</td></tr><tr><td>150</td><td>34</td><td>Pasta Place</td><td>Veggie Delight</td><td>5</td><td>277</td><td>2024-06-26</td></tr><tr><td>101</td><td>503</td><td>Pizza Palace</td><td>Spaghetti Carbonara</td><td>2</td><td>346</td><td>2024-06-28</td></tr><tr><td>167</td><td>360</td><td>Burger Haven</td><td>Pepperoni Pizza</td><td>2</td><td>155</td><td>2024-06-22</td></tr><tr><td>179</td><td>46</td><td>Sushi World</td><td>California Roll</td><td>2</td><td>365</td><td>2024-06-27</td></tr><tr><td>112</td><td>514</td><td>Burger Haven</td><td>Chicken Biryani</td><td>5</td><td>492</td><td>2024-06-28</td></tr><tr><td>164</td><td>847</td><td>Pasta Place</td><td>Margherita Pizza</td><td>4</td><td>427</td><td>2024-06-24</td></tr><tr><td>130</td><td>803</td><td>Burger Haven</td><td>Paneer Tikka</td><td>4</td><td>310</td><td>2024-06-25</td></tr><tr><td>147</td><td>393</td><td>Burger Haven</td><td>Chicken Curry</td><td>5</td><td>473</td><td>2024-06-28</td></tr><tr><td>110</td><td>755</td><td>Pasta Place</td><td>Chicken Curry</td><td>1</td><td>416</td><td>2024-06-28</td></tr><tr><td>200</td><td>770</td><td>Burger Haven</td><td>California Roll</td><td>1</td><td>204</td><td>2024-06-25</td></tr><tr><td>128</td><td>548</td><td>Pasta Place</td><td>Margherita Pizza</td><td>1</td><td>113</td><td>2024-06-21</td></tr><tr><td>125</td><td>829</td><td>Pizza Palace</td><td>Chicken Biryani</td><td>4</td><td>431</td><td>2024-06-25</td></tr><tr><td>194</td><td>32</td><td>Spice Hub</td><td>Chicken Curry</td><td>1</td><td>379</td><td>2024-06-25</td></tr><tr><td>124</td><td>709</td><td>Burger Haven</td><td>Spaghetti Carbonara</td><td>3</td><td>444</td><td>2024-06-28</td></tr><tr><td>156</td><td>267</td><td>Burger Haven</td><td>Cheeseburger</td><td>4</td><td>454</td><td>2024-06-28</td></tr><tr><td>197</td><td>967</td><td>Pasta Place</td><td>Chicken Curry</td><td>3</td><td>198</td><td>2024-06-27</td></tr><tr><td>183</td><td>668</td><td>Pizza Palace</td><td>Pepperoni Pizza</td><td>4</td><td>494</td><td>2024-06-21</td></tr><tr><td>177</td><td>44</td><td>Spice Hub</td><td>Veggie Delight</td><td>2</td><td>275</td><td>2024-06-22</td></tr><tr><td>166</td><td>726</td><td>Burger Haven</td><td>Veggie Delight</td><td>4</td><td>212</td><td>2024-06-27</td></tr><tr><td>200</td><td>97</td><td>Spice Hub</td><td>Margherita Pizza</td><td>5</td><td>450</td><td>2024-06-25</td></tr><tr><td>170</td><td>584</td><td>Burger Haven</td><td>California Roll</td><td>1</td><td>457</td><td>2024-06-27</td></tr><tr><td>133</td><td>532</td><td>Pasta Place</td><td>Margherita Pizza</td><td>3</td><td>251</td><td>2024-06-26</td></tr><tr><td>147</td><td>816</td><td>Sushi World</td><td>Cheeseburger</td><td>1</td><td>406</td><td>2024-06-28</td></tr><tr><td>158</td><td>873</td><td>Burger Haven</td><td>Spaghetti Carbonara</td><td>3</td><td>189</td><td>2024-06-28</td></tr><tr><td>185</td><td>465</td><td>Sushi World</td><td>Chicken Curry</td><td>4</td><td>416</td><td>2024-06-25</td></tr><tr><td>185</td><td>718</td><td>Burger Haven</td><td>Paneer Tikka</td><td>3</td><td>194</td><td>2024-06-25</td></tr><tr><td>180</td><td>874</td><td>Sushi World</td><td>Chicken Biryani</td><td>3</td><td>244</td><td>2024-06-25</td></tr><tr><td>155</td><td>461</td><td>Pasta Place</td><td>Mango Smoothie</td><td>1</td><td>264</td><td>2024-06-27</td></tr><tr><td>149</td><td>566</td><td>Pizza Palace</td><td>Mango Smoothie</td><td>3</td><td>279</td><td>2024-06-26</td></tr><tr><td>123</td><td>975</td><td>Burger Haven</td><td>Cheeseburger</td><td>2</td><td>335</td><td>2024-06-28</td></tr><tr><td>102</td><td>785</td><td>Sushi World</td><td>Mango Smoothie</td><td>3</td><td>450</td><td>2024-06-27</td></tr><tr><td>140</td><td>762</td><td>Pizza Palace</td><td>Mango Smoothie</td><td>1</td><td>168</td><td>2024-06-23</td></tr><tr><td>131</td><td>516</td><td>Sushi World</td><td>Cheeseburger</td><td>5</td><td>480</td><td>2024-06-26</td></tr><tr><td>189</td><td>940</td><td>Spice Hub</td><td>Cheeseburger</td><td>1</td><td>382</td><td>2024-06-24</td></tr><tr><td>132</td><td>51</td><td>Burger Haven</td><td>Spaghetti Carbonara</td><td>2</td><td>320</td><td>2024-06-27</td></tr><tr><td>113</td><td>222</td><td>Sushi World</td><td>Chicken Curry</td><td>3</td><td>129</td><td>2024-06-27</td></tr><tr><td>137</td><td>935</td><td>Pasta Place</td><td>Margherita Pizza</td><td>1</td><td>144</td><td>2024-06-21</td></tr><tr><td>154</td><td>211</td><td>Sushi World</td><td>Margherita Pizza</td><td>3</td><td>488</td><td>2024-06-24</td></tr><tr><td>145</td><td>304</td><td>Spice Hub</td><td>California Roll</td><td>4</td><td>285</td><td>2024-06-28</td></tr><tr><td>151</td><td>615</td><td>Pizza Palace</td><td>Margherita Pizza</td><td>4</td><td>108</td><td>2024-06-26</td></tr><tr><td>140</td><td>319</td><td>Pizza Palace</td><td>Paneer Tikka</td><td>4</td><td>324</td><td>2024-06-23</td></tr><tr><td>187</td><td>877</td><td>Burger Haven</td><td>Pepperoni Pizza</td><td>4</td><td>491</td><td>2024-06-26</td></tr><tr><td>195</td><td>552</td><td>Spice Hub</td><td>Pepperoni Pizza</td><td>5</td><td>401</td><td>2024-06-27</td></tr><tr><td>165</td><td>767</td><td>Pasta Place</td><td>Paneer Tikka</td><td>5</td><td>441</td><td>2024-06-28</td></tr><tr><td>121</td><td>996</td><td>Pizza Palace</td><td>California Roll</td><td>5</td><td>387</td><td>2024-06-20</td></tr><tr><td>181</td><td>184</td><td>Pizza Palace</td><td>Pepperoni Pizza</td><td>3</td><td>322</td><td>2024-06-27</td></tr><tr><td>149</td><td>529</td><td>Sushi World</td><td>California Roll</td><td>4</td><td>258</td><td>2024-06-26</td></tr><tr><td>174</td><td>329</td><td>Spice Hub</td><td>Chicken Biryani</td><td>5</td><td>333</td><td>2024-06-26</td></tr><tr><td>122</td><td>347</td><td>Burger Haven</td><td>Spaghetti Carbonara</td><td>3</td><td>260</td><td>2024-06-23</td></tr><tr><td>173</td><td>113</td><td>Pizza Palace</td><td>Mango Smoothie</td><td>2</td><td>485</td><td>2024-06-24</td></tr><tr><td>140</td><td>73</td><td>Pasta Place</td><td>California Roll</td><td>1</td><td>115</td><td>2024-06-23</td></tr><tr><td>105</td><td>685</td><td>Spice Hub</td><td>Veggie Delight</td><td>2</td><td>198</td><td>2024-06-28</td></tr><tr><td>136</td><td>830</td><td>Sushi World</td><td>Spaghetti Carbonara</td><td>5</td><td>272</td><td>2024-06-28</td></tr><tr><td>143</td><td>716</td><td>Sushi World</td><td>Margherita Pizza</td><td>2</td><td>447</td><td>2024-06-22</td></tr><tr><td>132</td><td>330</td><td>Pasta Place</td><td>Chicken Biryani</td><td>3</td><td>306</td><td>2024-06-27</td></tr><tr><td>188</td><td>47</td><td>Pizza Palace</td><td>Pepperoni Pizza</td><td>1</td><td>240</td><td>2024-06-26</td></tr><tr><td>153</td><td>538</td><td>Sushi World</td><td>Margherita Pizza</td><td>1</td><td>266</td><td>2024-06-26</td></tr><tr><td>144</td><td>40</td><td>Spice Hub</td><td>Paneer Tikka</td><td>1</td><td>242</td><td>2024-06-27</td></tr><tr><td>130</td><td>672</td><td>Pizza Palace</td><td>Chicken Curry</td><td>3</td><td>368</td><td>2024-06-25</td></tr><tr><td>100</td><td>700</td><td>Sushi World</td><td>Veggie Delight</td><td>2</td><td>169</td><td>2024-06-23</td></tr><tr><td>141</td><td>86</td><td>Pizza Palace</td><td>Chicken Biryani</td><td>5</td><td>283</td><td>2024-06-27</td></tr><tr><td>118</td><td>919</td><td>Pizza Palace</td><td>Mango Smoothie</td><td>2</td><td>377</td><td>2024-06-28</td></tr><tr><td>121</td><td>429</td><td>Pizza Palace</td><td>Spaghetti Carbonara</td><td>2</td><td>206</td><td>2024-06-20</td></tr><tr><td>109</td><td>600</td><td>Spice Hub</td><td>Pepperoni Pizza</td><td>2</td><td>111</td><td>2024-06-23</td></tr><tr><td>152</td><td>652</td><td>Spice Hub</td><td>Chicken Curry</td><td>5</td><td>161</td><td>2024-06-28</td></tr><tr><td>146</td><td>570</td><td>Spice Hub</td><td>Veggie Delight</td><td>5</td><td>462</td><td>2024-06-28</td></tr><tr><td>159</td><td>727</td><td>Pizza Palace</td><td>Cheeseburger</td><td>3</td><td>403</td><td>2024-06-22</td></tr><tr><td>171</td><td>57</td><td>Pasta Place</td><td>Paneer Tikka</td><td>3</td><td>346</td><td>2024-06-26</td></tr><tr><td>161</td><td>253</td><td>Pasta Place</td><td>Cheeseburger</td><td>5</td><td>134</td><td>2024-06-23</td></tr><tr><td>190</td><td>768</td><td>Pizza Palace</td><td>Margherita Pizza</td><td>3</td><td>157</td><td>2024-06-17</td></tr><tr><td>199</td><td>813</td><td>Sushi World</td><td>Mango Smoothie</td><td>5</td><td>114</td><td>2024-06-28</td></tr><tr><td>161</td><td>356</td><td>Spice Hub</td><td>Pepperoni Pizza</td><td>1</td><td>144</td><td>2024-06-23</td></tr><tr><td>108</td><td>15</td><td>Pizza Palace</td><td>Paneer Tikka</td><td>2</td><td>301</td><td>2024-06-22</td></tr><tr><td>166</td><td>395</td><td>Sushi World</td><td>Cheeseburger</td><td>2</td><td>347</td><td>2024-06-27</td></tr><tr><td>157</td><td>376</td><td>Pasta Place</td><td>Margherita Pizza</td><td>3</td><td>288</td><td>2024-06-28</td></tr><tr><td>116</td><td>440</td><td>Burger Haven</td><td>Mango Smoothie</td><td>4</td><td>264</td><td>2024-06-28</td></tr><tr><td>192</td><td>890</td><td>Pizza Palace</td><td>Mango Smoothie</td><td>5</td><td>203</td><td>2024-06-28</td></tr><tr><td>163</td><td>78</td><td>Sushi World</td><td>Cheeseburger</td><td>3</td><td>102</td><td>2024-06-22</td></tr><tr><td>142</td><td>323</td><td>Burger Haven</td><td>Veggie Delight</td><td>4</td><td>317</td><td>2024-06-25</td></tr><tr><td>134</td><td>868</td><td>Pizza Palace</td><td>Paneer Tikka</td><td>4</td><td>323</td><td>2024-06-27</td></tr><tr><td>112</td><td>987</td><td>Pizza Palace</td><td>Cheeseburger</td><td>2</td><td>353</td><td>2024-06-28</td></tr><tr><td>110</td><td>789</td><td>Burger Haven</td><td>Spaghetti Carbonara</td><td>3</td><td>271</td><td>2024-06-28</td></tr><tr><td>162</td><td>249</td><td>Pasta Place</td><td>Pepperoni Pizza</td><td>4</td><td>169</td><td>2024-06-26</td></tr><tr><td>119</td><td>37</td><td>Spice Hub</td><td>California Roll</td><td>3</td><td>288</td><td>2024-06-27</td></tr><tr><td>156</td><td>558</td><td>Pizza Palace</td><td>Cheeseburger</td><td>5</td><td>476</td><td>2024-06-28</td></tr><tr><td>152</td><td>563</td><td>Pizza Palace</td><td>Pepperoni Pizza</td><td>1</td><td>110</td><td>2024-06-28</td></tr><tr><td>178</td><td>521</td><td>Spice Hub</td><td>Chicken Biryani</td><td>3</td><td>446</td><td>2024-06-22</td></tr><tr><td>160</td><td>139</td><td>Sushi World</td><td>Mango Smoothie</td><td>3</td><td>138</td><td>2024-06-24</td></tr><tr><td>197</td><td>517</td><td>Pizza Palace</td><td>Spaghetti Carbonara</td><td>2</td><td>403</td><td>2024-06-27</td></tr><tr><td>115</td><td>978</td><td>Spice Hub</td><td>Pepperoni Pizza</td><td>2</td><td>132</td><td>2024-06-25</td></tr><tr><td>111</td><td>175</td><td>Pasta Place</td><td>Chicken Biryani</td><td>2</td><td>253</td><td>2024-06-26</td></tr><tr><td>198</td><td>706</td><td>Spice Hub</td><td>Margherita Pizza</td><td>1</td><td>384</td><td>2024-06-27</td></tr><tr><td>148</td><td>446</td><td>Burger Haven</td><td>Margherita Pizza</td><td>4</td><td>454</td><td>2024-06-18</td></tr><tr><td>129</td><td>275</td><td>Pizza Palace</td><td>Pepperoni Pizza</td><td>5</td><td>218</td><td>2024-06-28</td></tr><tr><td>184</td><td>790</td><td>Spice Hub</td><td>Margherita Pizza</td><td>4</td><td>306</td><td>2024-06-28</td></tr><tr><td>104</td><td>903</td><td>Spice Hub</td><td>Margherita Pizza</td><td>5</td><td>485</td><td>2024-06-26</td></tr><tr><td>172</td><td>121</td><td>Pizza Palace</td><td>California Roll</td><td>3</td><td>480</td><td>2024-06-25</td></tr><tr><td>107</td><td>947</td><td>Pasta Place</td><td>Paneer Tikka</td><td>1</td><td>497</td><td>2024-06-28</td></tr><tr><td>139</td><td>665</td><td>Pasta Place</td><td>Paneer Tikka</td><td>5</td><td>282</td><td>2024-06-28</td></tr><tr><td>193</td><td>426</td><td>Spice Hub</td><td>Veggie Delight</td><td>3</td><td>356</td><td>2024-06-28</td></tr><tr><td>117</td><td>850</td><td>Pizza Palace</td><td>Chicken Biryani</td><td>1</td><td>200</td><td>2024-06-26</td></tr><tr><td>138</td><td>687</td><td>Pasta Place</td><td>California Roll</td><td>3</td><td>262</td><td>2024-06-28</td></tr><tr><td>135</td><td>474</td><td>Sushi World</td><td>Cheeseburger</td><td>5</td><td>194</td><td>2024-06-20</td></tr><tr><td>186</td><td>637</td><td>Burger Haven</td><td>California Roll</td><td>4</td><td>256</td><td>2024-06-27</td></tr><tr><td>182</td><td>712</td><td>Pizza Palace</td><td>Veggie Delight</td><td>3</td><td>383</td><td>2024-06-26</td></tr><tr><td>140</td><td>640</td><td>Burger Haven</td><td>Mango Smoothie</td><td>2</td><td>341</td><td>2024-06-23</td></tr><tr><td>175</td><td>817</td><td>Spice Hub</td><td>Margherita Pizza</td><td>3</td><td>112</td><td>2024-06-23</td></tr><tr><td>103</td><td>56</td><td>Sushi World</td><td>Cheeseburger</td><td>5</td><td>190</td><td>2024-06-27</td></tr><tr><td>126</td><td>415</td><td>Sushi World</td><td>Paneer Tikka</td><td>2</td><td>207</td><td>2024-06-28</td></tr><tr><td>106</td><td>154</td><td>Sushi World</td><td>Mango Smoothie</td><td>2</td><td>327</td><td>2024-06-25</td></tr><tr><td>169</td><td>172</td><td>Pasta Place</td><td>Spaghetti Carbonara</td><td>1</td><td>125</td><td>2024-06-28</td></tr></tbody></table></div>"
      ]
     },
     "metadata": {
      "application/vnd.databricks.v1+output": {
       "addedWidgets": {},
       "aggData": [],
       "aggError": "",
       "aggOverflow": false,
       "aggSchema": [],
       "aggSeriesLimitReached": false,
       "aggType": "",
       "arguments": {},
       "columnCustomDisplayInfos": {},
       "data": [
        [
         191,
         565,
         "Pasta Place",
         "Cheeseburger",
         3,
         110,
         "2024-06-27"
        ],
        [
         183,
         336,
         "Sushi World",
         "Chicken Biryani",
         5,
         362,
         "2024-06-21"
        ],
        [
         120,
         42,
         "Burger Haven",
         "Paneer Tikka",
         5,
         491,
         "2024-06-28"
        ],
        [
         135,
         916,
         "Pasta Place",
         "California Roll",
         2,
         451,
         "2024-06-20"
        ],
        [
         168,
         862,
         "Sushi World",
         "Cheeseburger",
         1,
         190,
         "2024-06-28"
        ],
        [
         188,
         300,
         "Spice Hub",
         "Spaghetti Carbonara",
         3,
         204,
         "2024-06-26"
        ],
        [
         196,
         479,
         "Spice Hub",
         "Cheeseburger",
         1,
         125,
         "2024-06-28"
        ],
        [
         176,
         243,
         "Spice Hub",
         "Paneer Tikka",
         1,
         165,
         "2024-06-27"
        ],
        [
         127,
         287,
         "Spice Hub",
         "Chicken Biryani",
         4,
         171,
         "2024-06-27"
        ],
        [
         114,
         633,
         "Burger Haven",
         "Chicken Curry",
         1,
         363,
         "2024-06-28"
        ],
        [
         125,
         109,
         "Pizza Palace",
         "Mango Smoothie",
         3,
         362,
         "2024-06-25"
        ],
        [
         177,
         739,
         "Pizza Palace",
         "Paneer Tikka",
         5,
         474,
         "2024-06-22"
        ],
        [
         150,
         34,
         "Pasta Place",
         "Veggie Delight",
         5,
         277,
         "2024-06-26"
        ],
        [
         101,
         503,
         "Pizza Palace",
         "Spaghetti Carbonara",
         2,
         346,
         "2024-06-28"
        ],
        [
         167,
         360,
         "Burger Haven",
         "Pepperoni Pizza",
         2,
         155,
         "2024-06-22"
        ],
        [
         179,
         46,
         "Sushi World",
         "California Roll",
         2,
         365,
         "2024-06-27"
        ],
        [
         112,
         514,
         "Burger Haven",
         "Chicken Biryani",
         5,
         492,
         "2024-06-28"
        ],
        [
         164,
         847,
         "Pasta Place",
         "Margherita Pizza",
         4,
         427,
         "2024-06-24"
        ],
        [
         130,
         803,
         "Burger Haven",
         "Paneer Tikka",
         4,
         310,
         "2024-06-25"
        ],
        [
         147,
         393,
         "Burger Haven",
         "Chicken Curry",
         5,
         473,
         "2024-06-28"
        ],
        [
         110,
         755,
         "Pasta Place",
         "Chicken Curry",
         1,
         416,
         "2024-06-28"
        ],
        [
         200,
         770,
         "Burger Haven",
         "California Roll",
         1,
         204,
         "2024-06-25"
        ],
        [
         128,
         548,
         "Pasta Place",
         "Margherita Pizza",
         1,
         113,
         "2024-06-21"
        ],
        [
         125,
         829,
         "Pizza Palace",
         "Chicken Biryani",
         4,
         431,
         "2024-06-25"
        ],
        [
         194,
         32,
         "Spice Hub",
         "Chicken Curry",
         1,
         379,
         "2024-06-25"
        ],
        [
         124,
         709,
         "Burger Haven",
         "Spaghetti Carbonara",
         3,
         444,
         "2024-06-28"
        ],
        [
         156,
         267,
         "Burger Haven",
         "Cheeseburger",
         4,
         454,
         "2024-06-28"
        ],
        [
         197,
         967,
         "Pasta Place",
         "Chicken Curry",
         3,
         198,
         "2024-06-27"
        ],
        [
         183,
         668,
         "Pizza Palace",
         "Pepperoni Pizza",
         4,
         494,
         "2024-06-21"
        ],
        [
         177,
         44,
         "Spice Hub",
         "Veggie Delight",
         2,
         275,
         "2024-06-22"
        ],
        [
         166,
         726,
         "Burger Haven",
         "Veggie Delight",
         4,
         212,
         "2024-06-27"
        ],
        [
         200,
         97,
         "Spice Hub",
         "Margherita Pizza",
         5,
         450,
         "2024-06-25"
        ],
        [
         170,
         584,
         "Burger Haven",
         "California Roll",
         1,
         457,
         "2024-06-27"
        ],
        [
         133,
         532,
         "Pasta Place",
         "Margherita Pizza",
         3,
         251,
         "2024-06-26"
        ],
        [
         147,
         816,
         "Sushi World",
         "Cheeseburger",
         1,
         406,
         "2024-06-28"
        ],
        [
         158,
         873,
         "Burger Haven",
         "Spaghetti Carbonara",
         3,
         189,
         "2024-06-28"
        ],
        [
         185,
         465,
         "Sushi World",
         "Chicken Curry",
         4,
         416,
         "2024-06-25"
        ],
        [
         185,
         718,
         "Burger Haven",
         "Paneer Tikka",
         3,
         194,
         "2024-06-25"
        ],
        [
         180,
         874,
         "Sushi World",
         "Chicken Biryani",
         3,
         244,
         "2024-06-25"
        ],
        [
         155,
         461,
         "Pasta Place",
         "Mango Smoothie",
         1,
         264,
         "2024-06-27"
        ],
        [
         149,
         566,
         "Pizza Palace",
         "Mango Smoothie",
         3,
         279,
         "2024-06-26"
        ],
        [
         123,
         975,
         "Burger Haven",
         "Cheeseburger",
         2,
         335,
         "2024-06-28"
        ],
        [
         102,
         785,
         "Sushi World",
         "Mango Smoothie",
         3,
         450,
         "2024-06-27"
        ],
        [
         140,
         762,
         "Pizza Palace",
         "Mango Smoothie",
         1,
         168,
         "2024-06-23"
        ],
        [
         131,
         516,
         "Sushi World",
         "Cheeseburger",
         5,
         480,
         "2024-06-26"
        ],
        [
         189,
         940,
         "Spice Hub",
         "Cheeseburger",
         1,
         382,
         "2024-06-24"
        ],
        [
         132,
         51,
         "Burger Haven",
         "Spaghetti Carbonara",
         2,
         320,
         "2024-06-27"
        ],
        [
         113,
         222,
         "Sushi World",
         "Chicken Curry",
         3,
         129,
         "2024-06-27"
        ],
        [
         137,
         935,
         "Pasta Place",
         "Margherita Pizza",
         1,
         144,
         "2024-06-21"
        ],
        [
         154,
         211,
         "Sushi World",
         "Margherita Pizza",
         3,
         488,
         "2024-06-24"
        ],
        [
         145,
         304,
         "Spice Hub",
         "California Roll",
         4,
         285,
         "2024-06-28"
        ],
        [
         151,
         615,
         "Pizza Palace",
         "Margherita Pizza",
         4,
         108,
         "2024-06-26"
        ],
        [
         140,
         319,
         "Pizza Palace",
         "Paneer Tikka",
         4,
         324,
         "2024-06-23"
        ],
        [
         187,
         877,
         "Burger Haven",
         "Pepperoni Pizza",
         4,
         491,
         "2024-06-26"
        ],
        [
         195,
         552,
         "Spice Hub",
         "Pepperoni Pizza",
         5,
         401,
         "2024-06-27"
        ],
        [
         165,
         767,
         "Pasta Place",
         "Paneer Tikka",
         5,
         441,
         "2024-06-28"
        ],
        [
         121,
         996,
         "Pizza Palace",
         "California Roll",
         5,
         387,
         "2024-06-20"
        ],
        [
         181,
         184,
         "Pizza Palace",
         "Pepperoni Pizza",
         3,
         322,
         "2024-06-27"
        ],
        [
         149,
         529,
         "Sushi World",
         "California Roll",
         4,
         258,
         "2024-06-26"
        ],
        [
         174,
         329,
         "Spice Hub",
         "Chicken Biryani",
         5,
         333,
         "2024-06-26"
        ],
        [
         122,
         347,
         "Burger Haven",
         "Spaghetti Carbonara",
         3,
         260,
         "2024-06-23"
        ],
        [
         173,
         113,
         "Pizza Palace",
         "Mango Smoothie",
         2,
         485,
         "2024-06-24"
        ],
        [
         140,
         73,
         "Pasta Place",
         "California Roll",
         1,
         115,
         "2024-06-23"
        ],
        [
         105,
         685,
         "Spice Hub",
         "Veggie Delight",
         2,
         198,
         "2024-06-28"
        ],
        [
         136,
         830,
         "Sushi World",
         "Spaghetti Carbonara",
         5,
         272,
         "2024-06-28"
        ],
        [
         143,
         716,
         "Sushi World",
         "Margherita Pizza",
         2,
         447,
         "2024-06-22"
        ],
        [
         132,
         330,
         "Pasta Place",
         "Chicken Biryani",
         3,
         306,
         "2024-06-27"
        ],
        [
         188,
         47,
         "Pizza Palace",
         "Pepperoni Pizza",
         1,
         240,
         "2024-06-26"
        ],
        [
         153,
         538,
         "Sushi World",
         "Margherita Pizza",
         1,
         266,
         "2024-06-26"
        ],
        [
         144,
         40,
         "Spice Hub",
         "Paneer Tikka",
         1,
         242,
         "2024-06-27"
        ],
        [
         130,
         672,
         "Pizza Palace",
         "Chicken Curry",
         3,
         368,
         "2024-06-25"
        ],
        [
         100,
         700,
         "Sushi World",
         "Veggie Delight",
         2,
         169,
         "2024-06-23"
        ],
        [
         141,
         86,
         "Pizza Palace",
         "Chicken Biryani",
         5,
         283,
         "2024-06-27"
        ],
        [
         118,
         919,
         "Pizza Palace",
         "Mango Smoothie",
         2,
         377,
         "2024-06-28"
        ],
        [
         121,
         429,
         "Pizza Palace",
         "Spaghetti Carbonara",
         2,
         206,
         "2024-06-20"
        ],
        [
         109,
         600,
         "Spice Hub",
         "Pepperoni Pizza",
         2,
         111,
         "2024-06-23"
        ],
        [
         152,
         652,
         "Spice Hub",
         "Chicken Curry",
         5,
         161,
         "2024-06-28"
        ],
        [
         146,
         570,
         "Spice Hub",
         "Veggie Delight",
         5,
         462,
         "2024-06-28"
        ],
        [
         159,
         727,
         "Pizza Palace",
         "Cheeseburger",
         3,
         403,
         "2024-06-22"
        ],
        [
         171,
         57,
         "Pasta Place",
         "Paneer Tikka",
         3,
         346,
         "2024-06-26"
        ],
        [
         161,
         253,
         "Pasta Place",
         "Cheeseburger",
         5,
         134,
         "2024-06-23"
        ],
        [
         190,
         768,
         "Pizza Palace",
         "Margherita Pizza",
         3,
         157,
         "2024-06-17"
        ],
        [
         199,
         813,
         "Sushi World",
         "Mango Smoothie",
         5,
         114,
         "2024-06-28"
        ],
        [
         161,
         356,
         "Spice Hub",
         "Pepperoni Pizza",
         1,
         144,
         "2024-06-23"
        ],
        [
         108,
         15,
         "Pizza Palace",
         "Paneer Tikka",
         2,
         301,
         "2024-06-22"
        ],
        [
         166,
         395,
         "Sushi World",
         "Cheeseburger",
         2,
         347,
         "2024-06-27"
        ],
        [
         157,
         376,
         "Pasta Place",
         "Margherita Pizza",
         3,
         288,
         "2024-06-28"
        ],
        [
         116,
         440,
         "Burger Haven",
         "Mango Smoothie",
         4,
         264,
         "2024-06-28"
        ],
        [
         192,
         890,
         "Pizza Palace",
         "Mango Smoothie",
         5,
         203,
         "2024-06-28"
        ],
        [
         163,
         78,
         "Sushi World",
         "Cheeseburger",
         3,
         102,
         "2024-06-22"
        ],
        [
         142,
         323,
         "Burger Haven",
         "Veggie Delight",
         4,
         317,
         "2024-06-25"
        ],
        [
         134,
         868,
         "Pizza Palace",
         "Paneer Tikka",
         4,
         323,
         "2024-06-27"
        ],
        [
         112,
         987,
         "Pizza Palace",
         "Cheeseburger",
         2,
         353,
         "2024-06-28"
        ],
        [
         110,
         789,
         "Burger Haven",
         "Spaghetti Carbonara",
         3,
         271,
         "2024-06-28"
        ],
        [
         162,
         249,
         "Pasta Place",
         "Pepperoni Pizza",
         4,
         169,
         "2024-06-26"
        ],
        [
         119,
         37,
         "Spice Hub",
         "California Roll",
         3,
         288,
         "2024-06-27"
        ],
        [
         156,
         558,
         "Pizza Palace",
         "Cheeseburger",
         5,
         476,
         "2024-06-28"
        ],
        [
         152,
         563,
         "Pizza Palace",
         "Pepperoni Pizza",
         1,
         110,
         "2024-06-28"
        ],
        [
         178,
         521,
         "Spice Hub",
         "Chicken Biryani",
         3,
         446,
         "2024-06-22"
        ],
        [
         160,
         139,
         "Sushi World",
         "Mango Smoothie",
         3,
         138,
         "2024-06-24"
        ],
        [
         197,
         517,
         "Pizza Palace",
         "Spaghetti Carbonara",
         2,
         403,
         "2024-06-27"
        ],
        [
         115,
         978,
         "Spice Hub",
         "Pepperoni Pizza",
         2,
         132,
         "2024-06-25"
        ],
        [
         111,
         175,
         "Pasta Place",
         "Chicken Biryani",
         2,
         253,
         "2024-06-26"
        ],
        [
         198,
         706,
         "Spice Hub",
         "Margherita Pizza",
         1,
         384,
         "2024-06-27"
        ],
        [
         148,
         446,
         "Burger Haven",
         "Margherita Pizza",
         4,
         454,
         "2024-06-18"
        ],
        [
         129,
         275,
         "Pizza Palace",
         "Pepperoni Pizza",
         5,
         218,
         "2024-06-28"
        ],
        [
         184,
         790,
         "Spice Hub",
         "Margherita Pizza",
         4,
         306,
         "2024-06-28"
        ],
        [
         104,
         903,
         "Spice Hub",
         "Margherita Pizza",
         5,
         485,
         "2024-06-26"
        ],
        [
         172,
         121,
         "Pizza Palace",
         "California Roll",
         3,
         480,
         "2024-06-25"
        ],
        [
         107,
         947,
         "Pasta Place",
         "Paneer Tikka",
         1,
         497,
         "2024-06-28"
        ],
        [
         139,
         665,
         "Pasta Place",
         "Paneer Tikka",
         5,
         282,
         "2024-06-28"
        ],
        [
         193,
         426,
         "Spice Hub",
         "Veggie Delight",
         3,
         356,
         "2024-06-28"
        ],
        [
         117,
         850,
         "Pizza Palace",
         "Chicken Biryani",
         1,
         200,
         "2024-06-26"
        ],
        [
         138,
         687,
         "Pasta Place",
         "California Roll",
         3,
         262,
         "2024-06-28"
        ],
        [
         135,
         474,
         "Sushi World",
         "Cheeseburger",
         5,
         194,
         "2024-06-20"
        ],
        [
         186,
         637,
         "Burger Haven",
         "California Roll",
         4,
         256,
         "2024-06-27"
        ],
        [
         182,
         712,
         "Pizza Palace",
         "Veggie Delight",
         3,
         383,
         "2024-06-26"
        ],
        [
         140,
         640,
         "Burger Haven",
         "Mango Smoothie",
         2,
         341,
         "2024-06-23"
        ],
        [
         175,
         817,
         "Spice Hub",
         "Margherita Pizza",
         3,
         112,
         "2024-06-23"
        ],
        [
         103,
         56,
         "Sushi World",
         "Cheeseburger",
         5,
         190,
         "2024-06-27"
        ],
        [
         126,
         415,
         "Sushi World",
         "Paneer Tikka",
         2,
         207,
         "2024-06-28"
        ],
        [
         106,
         154,
         "Sushi World",
         "Mango Smoothie",
         2,
         327,
         "2024-06-25"
        ],
        [
         169,
         172,
         "Pasta Place",
         "Spaghetti Carbonara",
         1,
         125,
         "2024-06-28"
        ]
       ],
       "datasetInfos": [],
       "dbfsResultPath": null,
       "isJsonSchema": true,
       "metadata": {
        "dataframeName": "_sqldf",
        "executionCount": 33
       },
       "overflow": false,
       "plotOptions": {
        "customPlotOptions": {},
        "displayType": "table",
        "pivotAggregation": null,
        "pivotColumns": null,
        "xColumns": null,
        "yColumns": null
       },
       "removedWidgets": [],
       "schema": [
        {
         "metadata": "{}",
         "name": "CustomerID",
         "type": "\"integer\""
        },
        {
         "metadata": "{}",
         "name": "OrderID",
         "type": "\"integer\""
        },
        {
         "metadata": "{}",
         "name": "RestaurantName",
         "type": "\"string\""
        },
        {
         "metadata": "{}",
         "name": "DishName",
         "type": "\"string\""
        },
        {
         "metadata": "{}",
         "name": "Quantity",
         "type": "\"integer\""
        },
        {
         "metadata": "{}",
         "name": "Price",
         "type": "\"integer\""
        },
        {
         "metadata": "{\"__detected_date_formats\":\"yyyy-M-d\"}",
         "name": "OrderDate",
         "type": "\"date\""
        }
       ],
       "type": "table"
      }
     },
     "output_type": "display_data"
    }
   ],
   "source": [
    "%sql\n",
    "WITH RecentOrders AS (\n",
    "    SELECT CustomerID, MAX(OrderDate) AS MostRecentOrderDate\n",
    "    FROM zomato\n",
    "    GROUP BY CustomerID\n",
    ")\n",
    "SELECT o.CustomerID, o.OrderID, o.RestaurantName, o.DishName, o.Quantity, o.Price, o.OrderDate\n",
    "FROM zomato o\n",
    "JOIN RecentOrders r ON o.CustomerID = r.CustomerID AND o.OrderDate = r.MostRecentOrderDate;\n"
   ]
  }
 ],
 "metadata": {
  "application/vnd.databricks.v1+notebook": {
   "dashboards": [],
   "environmentMetadata": null,
   "language": "python",
   "notebookMetadata": {
    "mostRecentlyExecutedCommandWithImplicitDF": {
     "commandId": 4153520776799574,
     "dataframes": [
      "_sqldf"
     ]
    },
    "pythonIndentUnit": 4
   },
   "notebookName": "zomatodata-insights",
   "widgets": {}
  }
 },
 "nbformat": 4,
 "nbformat_minor": 0
}
