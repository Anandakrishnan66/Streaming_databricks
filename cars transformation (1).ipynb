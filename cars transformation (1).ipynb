{
 "cells": [
  {
   "cell_type": "code",
   "execution_count": null,
   "metadata": {
    "application/vnd.databricks.v1+cell": {
     "cellMetadata": {
      "byteLimit": 2048000,
      "rowLimit": 10000
     },
     "inputWidgets": {},
     "nuid": "2a99d62a-142f-4d57-aafc-4f656a07003f",
     "showTitle": false,
     "title": ""
    }
   },
   "outputs": [],
   "source": [
    "storage_account_name = 'azuresynaptraining'\n",
    "storage_account_access_key = '\n",
    "spark.conf.set('fs.azure.account.key.' + storage_account_name + '.blob.core.windows.net', storage_account_access_key)\n",
    "blob_container = 'output'\n",
    "filePath = f\"wasbs://\" + blob_container + \"@\" + storage_account_name + \".blob.core.windows.net/*.csv\"\n",
    "cars = spark.read.format(\"csv\").load(filePath, inferSchema = True, header = True)"
   ]
  },
  {
   "cell_type": "code",
   "execution_count": null,
   "metadata": {
    "application/vnd.databricks.v1+cell": {
     "cellMetadata": {
      "byteLimit": 2048000,
      "rowLimit": 10000
     },
     "inputWidgets": {},
     "nuid": "8fb844a4-89b5-426c-90e5-df3c731cbd37",
     "showTitle": false,
     "title": ""
    }
   },
   "outputs": [
    {
     "name": "stdout",
     "output_type": "stream",
     "text": [
      "+-------------+--------------------+------+------+----------+-----+-------+----------+---------+----------+--------+-----------+------+---------+------+\n",
      "|         Make|               Model|  Type|Origin|DriveTrain| MSRP|Invoice|EngineSize|Cylinders|Horsepower|MPG_City|MPG_Highway|Weight|Wheelbase|Length|\n",
      "+-------------+--------------------+------+------+----------+-----+-------+----------+---------+----------+--------+-----------+------+---------+------+\n",
      "|       Subaru|          Forester X| Wagon|  NULL|       All|21445|  19646|       2.5|        4|       165|      21|         28|  3090|       99|   175|\n",
      "|       Toyota| Camry Solara SE ...| Sedan|  Asia|     Front|21965|  19819|       3.3|        6|       225|      20|         29|  3417|      107|   193|\n",
      "|       Suzuki|        Aerio LX 4dr| Sedan|  Asia|     Front|14500|  14317|       2.3|        4|       155|      25|         31|  2676|       98|   171|\n",
      "|        Dodge|     Dakota Club Cab| Truck|   USA|      Rear|20300|  18670|       3.7|        6|       210|      16|         22|  3829|      131|   219|\n",
      "|        Mazda|        Mazda3 s 4dr| Sedan|  Asia|     Front| NULL|  15922|       2.3|        4|       160|      25|         31|  2762|      104|   179|\n",
      "|     Infiniti| G35 Sport Coupe 2dr| Sedan|  Asia|      Rear|29795|  27536|       3.5|        6|       280|      18|         26|  3416|      112|   182|\n",
      "|      Pontiac|     Grand Am GT 2dr| Sedan|   USA|     Front|22450|  20595|       3.4|        6|       175|      20|         29|  3118|      107|   186|\n",
      "|          GMC|     Sonoma Crew Cab| Truck|   USA|       All|25395|  23043|       4.3|     NULL|       190|      15|         19|  4083|      123|   208|\n",
      "|    Chevrolet|    Suburban 1500 LT|   SUV|   USA|     Front|42735|  37422|       5.3|        8|       295|      14|         18|  4947|      130|   219|\n",
      "|Mercedes-Benz| CLK500 coupe 2dr...| Sedan|Europe|      Rear|52800|  49104|       5.0|        8|       302|      17|         22|  3585|      107|   183|\n",
      "|          BMW|             X5 4.4i|   SUV|Europe|       All|52195|  47720|       4.4|        8|       325|      16|         22|  4824|      111|   184|\n",
      "|       Subaru|                Baja| Truck|  Asia|       All|24520|  22304|       2.5|        4|       165|      21|         28|  3485|      104|   193|\n",
      "|      Pontiac|             GTO 2dr|Sports|   USA|      Rear|33500|  30710|       5.7|        8|       340|      16|         20|  3725|      110|   190|\n",
      "|    Chevrolet|        Cavalier 2dr| Sedan|   USA|     Front|14610|  13697|       2.2|        4|       140|      26|         37|  2617|      104|   183|\n",
      "|        Honda|  Civic Si 2dr hatch| Sedan|  Asia|     Front|19490|  17849|       2.0|        4|       160|      26|         30|  2782|      101|   166|\n",
      "|      Mercury|        Sable GS 4dr| Sedan|   USA|     Front|21595|  19848|       3.0|        6|       155|      20|         27|  3308|      109|   200|\n",
      "|Mercedes-Benz|            C320 4dr| Sedan|Europe|      Rear|37630|  35046|       3.2|        6|       215|      20|         26|  3450|      107|   178|\n",
      "|        Acura| NSX coupe 2dr ma...|Sports|  Asia|      Rear|89765|  79978|       3.2|        6|       290|      17|         24|  3153|      100|   174|\n",
      "|       Jaguar|       XKR coupe 2dr|Sports|Europe|      Rear|81995|  74676|       4.2|        8|       390|      16|         23|  3865|      102|   187|\n",
      "|   Volkswagen|   Jetta GLI VR6 4dr| Sedan|Europe|     Front|23785|  21686|       2.8|        6|       200|      21|         30|  3179|       99|   172|\n",
      "+-------------+--------------------+------+------+----------+-----+-------+----------+---------+----------+--------+-----------+------+---------+------+\n",
      "only showing top 20 rows\n",
      "\n"
     ]
    }
   ],
   "source": [
    "cars.show()"
   ]
  },
  {
   "cell_type": "code",
   "execution_count": null,
   "metadata": {
    "application/vnd.databricks.v1+cell": {
     "cellMetadata": {
      "byteLimit": 2048000,
      "rowLimit": 10000
     },
     "inputWidgets": {},
     "nuid": "a8f76f6b-3d54-4457-b125-3479938ddd74",
     "showTitle": false,
     "title": ""
    }
   },
   "outputs": [],
   "source": [
    "cars.createOrReplaceTempView('cars_db')"
   ]
  },
  {
   "cell_type": "code",
   "execution_count": null,
   "metadata": {
    "application/vnd.databricks.v1+cell": {
     "cellMetadata": {
      "byteLimit": 2048000,
      "rowLimit": 10000
     },
     "inputWidgets": {},
     "nuid": "c74e5888-7b64-4cfa-b985-669882970209",
     "showTitle": false,
     "title": ""
    }
   },
   "outputs": [],
   "source": [
    "df2 = spark.sql(\"SELECT Origin, COUNT(*) FROM cars_db GROUP BY Origin\")\n"
   ]
  },
  {
   "cell_type": "code",
   "execution_count": null,
   "metadata": {
    "application/vnd.databricks.v1+cell": {
     "cellMetadata": {
      "byteLimit": 2048000,
      "rowLimit": 10000
     },
     "inputWidgets": {},
     "nuid": "9f224a74-bd5e-4df4-94a2-f4fcd0b390b4",
     "showTitle": false,
     "title": ""
    }
   },
   "outputs": [
    {
     "name": "stdout",
     "output_type": "stream",
     "text": [
      "+------+--------+\n",
      "|Origin|count(1)|\n",
      "+------+--------+\n",
      "|Europe|     119|\n",
      "|  NULL|      15|\n",
      "|   USA|     143|\n",
      "|  Asia|     151|\n",
      "+------+--------+\n",
      "\n"
     ]
    }
   ],
   "source": [
    "df2.show()"
   ]
  },
  {
   "cell_type": "code",
   "execution_count": null,
   "metadata": {
    "application/vnd.databricks.v1+cell": {
     "cellMetadata": {
      "byteLimit": 2048000,
      "rowLimit": 10000
     },
     "inputWidgets": {},
     "nuid": "74e20783-7aa0-43b1-bd9d-e3947a615ce5",
     "showTitle": false,
     "title": ""
    }
   },
   "outputs": [],
   "source": [
    "outPath = f\"wasbs://\" + blob_container + \"@\" + storage_account_name + \".blob.core.windows.net/outputtransformed1/\"\n",
    "df2.write.csv(outPath, header=True)\n"
   ]
  }
 ],
 "metadata": {
  "application/vnd.databricks.v1+notebook": {
   "dashboards": [],
   "environmentMetadata": null,
   "language": "python",
   "notebookMetadata": {
    "pythonIndentUnit": 4
   },
   "notebookName": "cars transformation",
   "widgets": {}
  },
  "language_info": {
   "name": "python"
  }
 },
 "nbformat": 4,
 "nbformat_minor": 0
}
